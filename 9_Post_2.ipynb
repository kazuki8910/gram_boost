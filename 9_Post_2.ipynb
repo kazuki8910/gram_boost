{
 "cells": [
  {
   "cell_type": "code",
   "execution_count": null,
   "metadata": {},
   "outputs": [],
   "source": [
    "# 自動投稿_２"
   ]
  },
  {
   "cell_type": "code",
   "execution_count": 34,
   "metadata": {},
   "outputs": [],
   "source": [
    "####################\n",
    "# \n",
    "# モジュール\n",
    "# \n",
    "####################\n",
    "\n",
    "# 標準\n",
    "import sys\n",
    "\n",
    "from selenium.webdriver.common.alert import Alert\n",
    "\n",
    "# 自作\n",
    "sys.path.append('module')\n",
    "import EasyScraping as es\n",
    "import CreatorStudio as cs\n",
    "import Instagram as ig"
   ]
  },
  {
   "cell_type": "code",
   "execution_count": 35,
   "metadata": {},
   "outputs": [
    {
     "name": "stdout",
     "output_type": "stream",
     "text": [
      "シートの情報を取得中\n",
      "投稿するアカウント：miura_shohei_fun\n"
     ]
    }
   ],
   "source": [
    "####################\n",
    "# \n",
    "# シートから情報を取得\n",
    "# \n",
    "####################\n",
    "\n",
    "print(\"シートの情報を取得中\")\n",
    "\n",
    "# シートの認証\n",
    "gc = es.sheet_auth()\n",
    "\n",
    "# シートの設定値\n",
    "sheet_key = \"1kk42fCyWIAf7taxEp0zwI-P_5DruB0MYJYELx9kB3TE\" # シートキー\n",
    "sheet_name_list = \"post_list\" # post_listシート名\n",
    "sheet_name_conf = \"config\" # configシート名\n",
    "sheets = gc.open_by_key(sheet_key)\n",
    "\n",
    "# configシートを連想配列に格納\n",
    "sheet_conf = sheets.worksheet(sheet_name_conf).get_all_values() # シートの値\n",
    "conf_val = {}\n",
    "for conf in sheet_conf:\n",
    "    conf_val[conf[0]] = conf[1] \n",
    "\n",
    "\n",
    "# 投稿リストから投稿の情報を取得する\n",
    "list_sheet = sheets.worksheet(sheet_name_list)\n",
    "sheet_list = list_sheet.get_all_values() # シートの値\n",
    "post_val = {}\n",
    "for ind,post in enumerate(sheet_list[0]):\n",
    "    post_val[post] = sheet_list[1][ind]\n",
    "    \n",
    "# 投稿のリストが10個以下だったらLINEに通知\n",
    "if(len(sheet_list)<12):\n",
    "    es.send_line(f'{conf_val[\"account_id\"]}の投稿リストが10個を切りました。')\n",
    "    \n",
    "print(f'投稿するアカウント：{conf_val[\"account_id\"]}')"
   ]
  },
  {
   "cell_type": "code",
   "execution_count": 36,
   "metadata": {},
   "outputs": [
    {
     "name": "stdout",
     "output_type": "stream",
     "text": [
      "投稿する画像/動画を取得中\n"
     ]
    }
   ],
   "source": [
    "####################\n",
    "# \n",
    "# 投稿画像/動画を取得\n",
    "# \n",
    "####################\n",
    "\n",
    "print(\"投稿する画像/動画を取得中\")\n",
    "\n",
    "# Chrome起動\n",
    "driver = es.start_chrome(headless=False, session=False)"
   ]
  },
  {
   "cell_type": "code",
   "execution_count": 46,
   "metadata": {},
   "outputs": [],
   "source": [
    "# 投稿画面にアクセス\n",
    "driver.get(post_val[\"url\"])\n",
    "es.wait()"
   ]
  },
  {
   "cell_type": "code",
   "execution_count": 47,
   "metadata": {},
   "outputs": [],
   "source": [
    "# 画像/動画を保存\n",
    "ig.save_file(driver)"
   ]
  },
  {
   "cell_type": "code",
   "execution_count": 48,
   "metadata": {},
   "outputs": [
    {
     "name": "stdout",
     "output_type": "stream",
     "text": [
      "投稿する画像/動画の取得完了\n"
     ]
    }
   ],
   "source": [
    "print(\"投稿する画像/動画の取得完了\")"
   ]
  },
  {
   "cell_type": "code",
   "execution_count": 49,
   "metadata": {},
   "outputs": [
    {
     "name": "stdout",
     "output_type": "stream",
     "text": [
      "投稿の準備中\n"
     ]
    }
   ],
   "source": [
    "####################\n",
    "# \n",
    "# クリエイタースタジオにログイン\n",
    "# \n",
    "####################\n",
    "\n",
    "print('投稿の準備中')"
   ]
  },
  {
   "cell_type": "code",
   "execution_count": 50,
   "metadata": {},
   "outputs": [],
   "source": [
    "# クリエイタースタジオ起動\n",
    "cs.start_up_cs(driver)"
   ]
  },
  {
   "cell_type": "code",
   "execution_count": 51,
   "metadata": {},
   "outputs": [],
   "source": [
    "# 投稿を作成ボタンクリック\n",
    "cs.click_create_post(driver)\n",
    "\n",
    "# 「Instagramフィードボタン」をクリック\n",
    "cs.click_ig_feed(driver)"
   ]
  },
  {
   "cell_type": "code",
   "execution_count": 52,
   "metadata": {},
   "outputs": [],
   "source": [
    "# 投稿するアカウントを選択\n",
    "cs.choice_post_account(driver, conf_val[\"account_id\"])"
   ]
  },
  {
   "cell_type": "code",
   "execution_count": 53,
   "metadata": {},
   "outputs": [],
   "source": [
    "# 投稿文入力\n",
    "cs.input_post_text(driver, post_val[\"text\"])"
   ]
  },
  {
   "cell_type": "code",
   "execution_count": 54,
   "metadata": {},
   "outputs": [],
   "source": [
    "# ファイルのアップロード\n",
    "cs.click_add_contents(driver)"
   ]
  },
  {
   "cell_type": "code",
   "execution_count": 55,
   "metadata": {},
   "outputs": [],
   "source": [
    "# タグ付け\n",
    "cs.add_tag(driver, post_val[\"tag\"])"
   ]
  },
  {
   "cell_type": "code",
   "execution_count": 56,
   "metadata": {},
   "outputs": [],
   "source": [
    "# Facebookに投稿をクリック\n",
    "cs.check_facebook_post(driver)"
   ]
  },
  {
   "cell_type": "code",
   "execution_count": 57,
   "metadata": {},
   "outputs": [],
   "source": [
    "# 公開する\n",
    "cs.click_publish(driver)"
   ]
  },
  {
   "cell_type": "code",
   "execution_count": 58,
   "metadata": {},
   "outputs": [
    {
     "name": "stdout",
     "output_type": "stream",
     "text": [
      "投稿完了\n"
     ]
    }
   ],
   "source": [
    "print('投稿完了')"
   ]
  },
  {
   "cell_type": "code",
   "execution_count": 59,
   "metadata": {},
   "outputs": [],
   "source": [
    "# ブラウザを閉じる\n",
    "driver.quit()"
   ]
  },
  {
   "cell_type": "code",
   "execution_count": 60,
   "metadata": {},
   "outputs": [],
   "source": [
    "# 引用した投稿をリストから削除\n",
    "cs.remove_post_list(list_sheet)"
   ]
  },
  {
   "cell_type": "code",
   "execution_count": 61,
   "metadata": {},
   "outputs": [
    {
     "name": "stdout",
     "output_type": "stream",
     "text": [
      "リストから投稿削除\n",
      "Click Enter\n"
     ]
    },
    {
     "name": "stdin",
     "output_type": "stream",
     "text": [
      " \n"
     ]
    },
    {
     "data": {
      "text/plain": [
       "''"
      ]
     },
     "execution_count": 61,
     "metadata": {},
     "output_type": "execute_result"
    }
   ],
   "source": [
    "print(\"リストから投稿削除\")\n",
    "print('Click Enter')\n",
    "input()"
   ]
  },
  {
   "cell_type": "code",
   "execution_count": null,
   "metadata": {},
   "outputs": [],
   "source": []
  },
  {
   "cell_type": "code",
   "execution_count": null,
   "metadata": {},
   "outputs": [],
   "source": []
  }
 ],
 "metadata": {
  "kernelspec": {
   "display_name": "Python 3",
   "language": "python",
   "name": "python3"
  },
  "language_info": {
   "codemirror_mode": {
    "name": "ipython",
    "version": 3
   },
   "file_extension": ".py",
   "mimetype": "text/x-python",
   "name": "python",
   "nbconvert_exporter": "python",
   "pygments_lexer": "ipython3",
   "version": "3.8.5"
  }
 },
 "nbformat": 4,
 "nbformat_minor": 4
}
