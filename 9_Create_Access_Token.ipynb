{
 "cells": [
  {
   "cell_type": "code",
   "execution_count": null,
   "metadata": {},
   "outputs": [],
   "source": [
    "# 無期限アクセストークンを取得する"
   ]
  },
  {
   "cell_type": "code",
   "execution_count": null,
   "metadata": {},
   "outputs": [],
   "source": [
    "# モジュール\n",
    "import requests"
   ]
  },
  {
   "cell_type": "code",
   "execution_count": null,
   "metadata": {},
   "outputs": [],
   "source": [
    "####################\n",
    "# \n",
    "# 必要事項入力\n",
    "# \n",
    "####################\n",
    "\n",
    "print(\"アプリIDを入力\")\n",
    "# app_id = '807274826872028'\n",
    "app_id = input()\n",
    "print(\"\")\n",
    "\n",
    "print(\"app secretを入力\")\n",
    "# app_secret = 'd8572d689cfdaf4c8f0c6992f6010ac6'\n",
    "app_secret = input()\n",
    "print(\"\")\n",
    "\n",
    "print(\"短期アクセストークンを入力\")\n",
    "# access_token_short = 'EAALeNlFKtNwBAKwDH6OiIZAx7PxRZCctPXIdQBhsnRfxRLKFSZAWUtEdfnlLTsoTh3uwrh3qeHR762gLawhEGBHvfM4972CUZBXs5YbzjG6on0EO2VBascfZAH3GpXNCdTnnAHg0PCflNeUI50H2oxHqCc0U79zVwOIrJR5MYzWcfANOHmWf3poBtijwmZAZA4ZD'\n",
    "access_token_short = input()\n",
    "print(\"\")"
   ]
  },
  {
   "cell_type": "code",
   "execution_count": null,
   "metadata": {},
   "outputs": [],
   "source": [
    "####################\n",
    "# \n",
    "# 長期アクセストークン取得\n",
    "# \n",
    "####################\n",
    "\n",
    "# リクエストURL\n",
    "url_first = \"https://graph.facebook.com/v3.0/oauth/access_token\"\n",
    "\n",
    "# パラメータ\n",
    "params_short = { \n",
    "    \"grant_type\": \"fb_exchange_token\",\n",
    "    \"client_id\": app_id,\n",
    "    \"client_secret\": app_secret,\n",
    "    \"fb_exchange_token\": access_token_short\n",
    "}\n",
    " \n",
    "# リクエスト\n",
    "res_short = requests.get(url_first, params=params_short).json()\n",
    "\n",
    "# 長期アクセストークン取得\n",
    "access_token_long = res_short[\"access_token\"]"
   ]
  },
  {
   "cell_type": "code",
   "execution_count": null,
   "metadata": {},
   "outputs": [],
   "source": [
    "####################\n",
    "# \n",
    "# ID取得\n",
    "# \n",
    "####################\n",
    "\n",
    "# リクエストURL\n",
    "url_id = 'https://graph.facebook.com/v3.0/me'\n",
    "\n",
    "# パラメータ\n",
    "params_id = { \"access_token\": access_token_long }\n",
    "\n",
    "# リクエスト\n",
    "res_id = requests.get(url_id, params=params_id).json()\n",
    "\n",
    "# ID取得\n",
    "my_id = res_id[\"id\"]"
   ]
  },
  {
   "cell_type": "code",
   "execution_count": null,
   "metadata": {},
   "outputs": [],
   "source": [
    "####################\n",
    "# \n",
    "# 無期限アクセストークン取得\n",
    "# \n",
    "####################\n",
    "\n",
    "# リクエストURL\n",
    "url_indefinite = f'https://graph.facebook.com/v3.0/{my_id}/accounts'\n",
    "\n",
    "# パラメータ\n",
    "params_indefinite = { \"access_token\": access_token_long}\n",
    "\n",
    "# リクエスト\n",
    "res_indefinite = requests.get(url_indefinite, params=params_indefinite).json()"
   ]
  },
  {
   "cell_type": "code",
   "execution_count": null,
   "metadata": {},
   "outputs": [],
   "source": [
    "# データ整形\n",
    "tokens = []\n",
    "for val in res_indefinite[\"data\"]:\n",
    "    access_token = val[\"access_token\"]\n",
    "    name = val[\"name\"]\n",
    "    token = {\n",
    "        \"name\": name,\n",
    "        \"access_token\": access_token\n",
    "    }\n",
    "    tokens.append(token)\n",
    "    \n",
    "# 出力\n",
    "print(\"\\n------result----------\\n\")\n",
    "for val in tokens:\n",
    "    print(val[\"name\"])\n",
    "    print(val[\"access_token\"])\n",
    "    print(\"\")\n",
    "print(\"------result----------\\n\\n\")"
   ]
  },
  {
   "cell_type": "code",
   "execution_count": null,
   "metadata": {},
   "outputs": [],
   "source": [
    "print(\"Click Enter\")\n",
    "input()"
   ]
  }
 ],
 "metadata": {
  "kernelspec": {
   "display_name": "Python 3",
   "language": "python",
   "name": "python3"
  },
  "language_info": {
   "codemirror_mode": {
    "name": "ipython",
    "version": 3
   },
   "file_extension": ".py",
   "mimetype": "text/x-python",
   "name": "python",
   "nbconvert_exporter": "python",
   "pygments_lexer": "ipython3",
   "version": "3.8.5"
  }
 },
 "nbformat": 4,
 "nbformat_minor": 4
}
