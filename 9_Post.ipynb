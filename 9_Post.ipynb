{
 "cells": [
  {
   "cell_type": "code",
   "execution_count": null,
   "metadata": {},
   "outputs": [],
   "source": [
    "# 自動投稿（美女、キャンプ）"
   ]
  },
  {
   "cell_type": "code",
   "execution_count": 1,
   "metadata": {},
   "outputs": [],
   "source": [
    "####################\n",
    "#\n",
    "# 自動投稿\n",
    "#\n",
    "####################\n",
    "\n",
    "####################\n",
    "# \n",
    "# モジュール\n",
    "# \n",
    "####################\n",
    "\n",
    "# 標準\n",
    "import sys\n",
    "\n",
    "# 自作\n",
    "sys.path.append('module')\n",
    "import EasyScraping as es\n",
    "import CreatorStudio as cs\n",
    "import Instagram as ig"
   ]
  },
  {
   "cell_type": "code",
   "execution_count": 2,
   "metadata": {},
   "outputs": [],
   "source": [
    "####################\n",
    "# \n",
    "# 変数\n",
    "# \n",
    "####################\n",
    "\n",
    "# アカウントID\n",
    "account_id = 'bijo_film'"
   ]
  },
  {
   "cell_type": "code",
   "execution_count": 4,
   "metadata": {},
   "outputs": [
    {
     "name": "stdout",
     "output_type": "stream",
     "text": [
      "\n",
      "bijo_film\n"
     ]
    }
   ],
   "source": [
    "####################\n",
    "# \n",
    "# 自動投稿\n",
    "# \n",
    "####################\n",
    "\n",
    "print(f'\\n{account_id}')"
   ]
  },
  {
   "cell_type": "code",
   "execution_count": 5,
   "metadata": {},
   "outputs": [],
   "source": [
    "###################\n",
    "#\n",
    "# アカウント情報取得\n",
    "#\n",
    "###################\n",
    "\n",
    "account_info = es.get_account_info(account_id)"
   ]
  },
  {
   "cell_type": "code",
   "execution_count": 6,
   "metadata": {},
   "outputs": [
    {
     "name": "stdout",
     "output_type": "stream",
     "text": [
      "シートから引用する投稿を取得中\n",
      "取得完了\n"
     ]
    }
   ],
   "source": [
    "####################\n",
    "# \n",
    "# シートから投稿のストックを取得\n",
    "# \n",
    "####################\n",
    "\n",
    "print('シートから引用する投稿を取得中')\n",
    "\n",
    "# シートの命名規則を取得\n",
    "sheet_name_conv = es.get_sheet_name_convention()\n",
    "\n",
    "# シートキー取得\n",
    "try:\n",
    "    sheet_key = account_info[\"sheet\"][\"key\"]\n",
    "except:\n",
    "    function = sys._getframe().f_code.co_name\n",
    "    message = \"JSONファイルのシートキーの取得に失敗しました。\"\n",
    "    es.notice_error(function, message)\n",
    "\n",
    "# シートの認証\n",
    "gc = es.sheet_auth()\n",
    "\n",
    "# シートから引用する投稿のURLを取得\n",
    "try:\n",
    "    # シートを取得\n",
    "    sheet_stock = gc.open_by_key(sheet_key).worksheet(sheet_name_conv['post_stock']['name'])\n",
    "\n",
    "    # URLが何列目に格納されているのか取得\n",
    "    sheet_stock_values = sheet_stock.get_all_values()\n",
    "    sheet_stock_head     = sheet_stock_values[0]\n",
    "    stock_url_col = int(sheet_stock_head.index(\"投稿のURL\"))\n",
    "\n",
    "    # 投稿のURLを取得\n",
    "    stock_url = sheet_stock_values[1][stock_url_col]\n",
    "\n",
    "except:\n",
    "    function = sys._getframe().f_code.co_name\n",
    "    message = \"引用投稿（ストック）の取得に失敗しました。\"\n",
    "    es.notice_error(function, message)\n",
    "\n",
    "print('取得完了')"
   ]
  },
  {
   "cell_type": "code",
   "execution_count": 9,
   "metadata": {},
   "outputs": [
    {
     "name": "stdout",
     "output_type": "stream",
     "text": [
      "引用する投稿の情報を取得中\n",
      "取得完了\n"
     ]
    }
   ],
   "source": [
    "####################\n",
    "# \n",
    "# 引用する投稿の情報を取得\n",
    "# \n",
    "####################\n",
    "\n",
    "print('引用する投稿の情報を取得中')\n",
    "\n",
    "# Chrome起動\n",
    "driver = es.start_chrome(headless=False, session=False)\n",
    "\n",
    "# 投稿のURLに遷移\n",
    "try:\n",
    "    driver.get(stock_url)\n",
    "    es.wait()\n",
    "except:\n",
    "    function = sys._getframe().f_code.co_name\n",
    "    message = '引用した投稿への移動に失敗しました。'\n",
    "    es.notice_error(function, message)\n",
    "\n",
    "# 画像・動画ファイルをローカルに保存\n",
    "ig.save_file(driver)\n",
    "\n",
    "# 投稿文取得\n",
    "post_text = ig.get_post_text(driver)\n",
    "\n",
    "# プロフィール画面に遷移\n",
    "ig.move_to_profile_from_post(driver)\n",
    "\n",
    "# ユーザーID取得\n",
    "user_id = ig.get_user_id(driver)\n",
    "\n",
    "# ユーザー名\n",
    "user_name = ig.get_user_name(driver)\n",
    "\n",
    "print('取得完了')"
   ]
  },
  {
   "cell_type": "code",
   "execution_count": 10,
   "metadata": {},
   "outputs": [
    {
     "name": "stdout",
     "output_type": "stream",
     "text": [
      "クリエイタースタジオから投稿中\n",
      "投稿完了\n"
     ]
    }
   ],
   "source": [
    "####################\n",
    "#\n",
    "# クリエイタースタジオから投稿\n",
    "# \n",
    "####################\n",
    "\n",
    "print('クリエイタースタジオから投稿中')\n",
    "\n",
    "# クリエイタースタジオ起動\n",
    "cs.start_up_cs(driver)\n",
    "\n",
    "# 投稿を作成ボタンクリック\n",
    "cs.click_create_post(driver)\n",
    "\n",
    "# 「Instagramフィードボタン」をクリック\n",
    "cs.click_ig_feed(driver)\n",
    "\n",
    "# 投稿するアカウントを選択\n",
    "cs.choice_post_account(driver, account_id)\n",
    "\n",
    "# 投稿文生成\n",
    "created_post_text = cs.create_post_text(account_info['template'], user_name, user_id, post_text)\n",
    "\n",
    "# 投稿文入力\n",
    "cs.input_post_text(driver, created_post_text)\n",
    "\n",
    "# ファイルのアップロード\n",
    "cs.click_add_contents(driver)\n",
    "\n",
    "# タグ付け\n",
    "cs.add_tag(driver, user_id)\n",
    "\n",
    "# Facebookに投稿をクリック\n",
    "cs.check_facebook_post(driver)\n",
    "\n",
    "# 公開する\n",
    "cs.click_publish(driver)\n",
    "\n",
    "print('投稿完了')\n",
    "\n",
    "# ブラウザを閉じる\n",
    "driver.quit()"
   ]
  },
  {
   "cell_type": "code",
   "execution_count": 11,
   "metadata": {},
   "outputs": [
    {
     "name": "stdout",
     "output_type": "stream",
     "text": [
      "引用した投稿をリストから削除中\n"
     ]
    }
   ],
   "source": [
    "print('引用した投稿をリストから削除中')\n",
    "\n",
    "# 引用した投稿をリストから削除\n",
    "cs.remove_post_list(sheet_stock)"
   ]
  },
  {
   "cell_type": "code",
   "execution_count": 12,
   "metadata": {},
   "outputs": [
    {
     "name": "stdout",
     "output_type": "stream",
     "text": [
      "削除完了\n"
     ]
    }
   ],
   "source": [
    "print('削除完了')\n",
    "\n",
    "es.send_line(f'投稿完了{account_id}')"
   ]
  },
  {
   "cell_type": "code",
   "execution_count": 13,
   "metadata": {},
   "outputs": [
    {
     "name": "stdout",
     "output_type": "stream",
     "text": [
      "Click Enter\n"
     ]
    },
    {
     "name": "stdin",
     "output_type": "stream",
     "text": [
      " \n"
     ]
    },
    {
     "data": {
      "text/plain": [
       "''"
      ]
     },
     "execution_count": 13,
     "metadata": {},
     "output_type": "execute_result"
    }
   ],
   "source": [
    "print('Click Enter')\n",
    "input()"
   ]
  }
 ],
 "metadata": {
  "kernelspec": {
   "display_name": "Python 3",
   "language": "python",
   "name": "python3"
  },
  "language_info": {
   "codemirror_mode": {
    "name": "ipython",
    "version": 3
   },
   "file_extension": ".py",
   "mimetype": "text/x-python",
   "name": "python",
   "nbconvert_exporter": "python",
   "pygments_lexer": "ipython3",
   "version": "3.8.5"
  }
 },
 "nbformat": 4,
 "nbformat_minor": 4
}
