{
 "cells": [
  {
   "cell_type": "code",
   "execution_count": 311,
   "metadata": {},
   "outputs": [],
   "source": [
    "####################\n",
    "#\n",
    "# 投稿のインサイト取得\n",
    "#\n",
    "####################"
   ]
  },
  {
   "cell_type": "code",
   "execution_count": 312,
   "metadata": {},
   "outputs": [],
   "source": [
    "####################\n",
    "#\n",
    "# モジュール\n",
    "#\n",
    "####################\n",
    "\n",
    "# 標準\n",
    "import sys\n",
    "\n",
    "# 自作\n",
    "sys.path.append('module')\n",
    "import EasyScraping as es\n",
    "import CreatorStudio as cs"
   ]
  },
  {
   "cell_type": "code",
   "execution_count": 313,
   "metadata": {},
   "outputs": [],
   "source": [
    "####################\n",
    "#\n",
    "# 変数\n",
    "#\n",
    "####################\n",
    "\n",
    "# インサイトを取得するアカウントID\n",
    "account_id = 'camp__film'\n",
    "account_info = es.get_account_info(account_id)\n",
    "\n",
    "# 何日前までのインサイトを取得するか？\n",
    "DAYS_AGO = 3"
   ]
  },
  {
   "cell_type": "code",
   "execution_count": 314,
   "metadata": {},
   "outputs": [],
   "source": [
    "####################\n",
    "#\n",
    "# インサイト取得\n",
    "#\n",
    "####################\n",
    "\n",
    "# GoogleChrome起動\n",
    "driver = es.start_chrome()"
   ]
  },
  {
   "cell_type": "code",
   "execution_count": null,
   "metadata": {},
   "outputs": [
    {
     "name": "stdout",
     "output_type": "stream",
     "text": [
      "\n",
      "\n",
      "--------------------エラーメッセージ--------------------\n",
      "\n",
      "NoneType: None\n",
      "\n",
      "クリエイタースタジオの起動に失敗しました。\n",
      "titleタグが予期せぬ値です。\n",
      "エラーが起きた関数：start_up_cs\n",
      "エラーが起きたモジュール：CreatorStudio\n",
      "03月23日 18時53分39秒\n",
      "\n",
      "\n",
      "------------------END:エラーメッセージ------------------\n",
      "\n",
      "\n",
      "\n",
      "\n",
      "--------------------エラーメッセージ--------------------\n",
      "\n",
      "Traceback (most recent call last):\n",
      "  File \"C:\\Users\\kumag\\anaconda3\\lib\\site-packages\\urllib3\\connectionpool.py\", line 381, in _make_request\n",
      "    self._validate_conn(conn)\n",
      "  File \"C:\\Users\\kumag\\anaconda3\\lib\\site-packages\\urllib3\\connectionpool.py\", line 978, in _validate_conn\n",
      "    conn.connect()\n",
      "  File \"C:\\Users\\kumag\\anaconda3\\lib\\site-packages\\urllib3\\connection.py\", line 362, in connect\n",
      "    self.sock = ssl_wrap_socket(\n",
      "  File \"C:\\Users\\kumag\\anaconda3\\lib\\site-packages\\urllib3\\util\\ssl_.py\", line 386, in ssl_wrap_socket\n",
      "    return context.wrap_socket(sock, server_hostname=server_hostname)\n",
      "  File \"C:\\Users\\kumag\\anaconda3\\lib\\ssl.py\", line 500, in wrap_socket\n",
      "    return self.sslsocket_class._create(\n",
      "  File \"C:\\Users\\kumag\\anaconda3\\lib\\ssl.py\", line 1040, in _create\n",
      "    self.do_handshake()\n",
      "  File \"C:\\Users\\kumag\\anaconda3\\lib\\ssl.py\", line 1309, in do_handshake\n",
      "    self._sslobj.do_handshake()\n",
      "socket.timeout: _ssl.c:1106: The handshake operation timed out\n",
      "\n",
      "During handling of the above exception, another exception occurred:\n",
      "\n",
      "Traceback (most recent call last):\n",
      "  File \"C:\\Users\\kumag\\anaconda3\\lib\\site-packages\\requests\\adapters.py\", line 439, in send\n",
      "    resp = conn.urlopen(\n",
      "  File \"C:\\Users\\kumag\\anaconda3\\lib\\site-packages\\urllib3\\connectionpool.py\", line 726, in urlopen\n",
      "    retries = retries.increment(\n",
      "  File \"C:\\Users\\kumag\\anaconda3\\lib\\site-packages\\urllib3\\util\\retry.py\", line 410, in increment\n",
      "    raise six.reraise(type(error), error, _stacktrace)\n",
      "  File \"C:\\Users\\kumag\\anaconda3\\lib\\site-packages\\urllib3\\packages\\six.py\", line 735, in reraise\n",
      "    raise value\n",
      "  File \"C:\\Users\\kumag\\anaconda3\\lib\\site-packages\\urllib3\\connectionpool.py\", line 670, in urlopen\n",
      "    httplib_response = self._make_request(\n",
      "  File \"C:\\Users\\kumag\\anaconda3\\lib\\site-packages\\urllib3\\connectionpool.py\", line 384, in _make_request\n",
      "    self._raise_timeout(err=e, url=url, timeout_value=conn.timeout)\n",
      "  File \"C:\\Users\\kumag\\anaconda3\\lib\\site-packages\\urllib3\\connectionpool.py\", line 335, in _raise_timeout\n",
      "    raise ReadTimeoutError(\n",
      "urllib3.exceptions.ReadTimeoutError: HTTPSConnectionPool(host='api.line.me', port=443): Read timed out. (read timeout=5)\n",
      "\n",
      "During handling of the above exception, another exception occurred:\n",
      "\n",
      "Traceback (most recent call last):\n",
      "  File \"module\\CreatorStudio.py\", line 171, in start_up_cs\n",
      "    es.notice_error(module, function, message)\n",
      "  File \"module\\EasyScraping.py\", line 78, in notice_error\n",
      "    send_line(error_text)\n",
      "  File \"module\\EasyScraping.py\", line 59, in send_line\n",
      "    line_bot_api.broadcast(messages=messages)\n",
      "  File \"C:\\Users\\kumag\\anaconda3\\lib\\site-packages\\linebot\\api.py\", line 223, in broadcast\n",
      "    response = self._post(\n",
      "  File \"C:\\Users\\kumag\\anaconda3\\lib\\site-packages\\linebot\\api.py\", line 1265, in _post\n",
      "    response = self.http_client.post(\n",
      "  File \"C:\\Users\\kumag\\anaconda3\\lib\\site-packages\\linebot\\http_client.py\", line 168, in post\n",
      "    response = requests.post(\n",
      "  File \"C:\\Users\\kumag\\anaconda3\\lib\\site-packages\\requests\\api.py\", line 119, in post\n",
      "    return request('post', url, data=data, json=json, **kwargs)\n",
      "  File \"C:\\Users\\kumag\\anaconda3\\lib\\site-packages\\requests\\api.py\", line 61, in request\n",
      "    return session.request(method=method, url=url, **kwargs)\n",
      "  File \"C:\\Users\\kumag\\anaconda3\\lib\\site-packages\\requests\\sessions.py\", line 530, in request\n",
      "    resp = self.send(prep, **send_kwargs)\n",
      "  File \"C:\\Users\\kumag\\anaconda3\\lib\\site-packages\\requests\\sessions.py\", line 643, in send\n",
      "    r = adapter.send(request, **kwargs)\n",
      "  File \"C:\\Users\\kumag\\anaconda3\\lib\\site-packages\\requests\\adapters.py\", line 529, in send\n",
      "    raise ReadTimeout(e, request=request)\n",
      "requests.exceptions.ReadTimeout: HTTPSConnectionPool(host='api.line.me', port=443): Read timed out. (read timeout=5)\n",
      "\n",
      "クリエイタースタジオの起動に失敗しました。\n",
      "エラーが起きた関数：start_up_cs\n",
      "エラーが起きたモジュール：CreatorStudio\n",
      "03月23日 18時53分44秒\n",
      "\n",
      "\n",
      "------------------END:エラーメッセージ------------------\n",
      "\n",
      "\n"
     ]
    }
   ],
   "source": [
    "# クリエイタースタジオを起動\n",
    "cs.start_up_cs(driver)"
   ]
  },
  {
   "cell_type": "code",
   "execution_count": null,
   "metadata": {},
   "outputs": [],
   "source": [
    "# アカウントを選択\n",
    "cs.choice_account(driver, account_id)"
   ]
  },
  {
   "cell_type": "code",
   "execution_count": null,
   "metadata": {},
   "outputs": [],
   "source": [
    "# インサイト取得のループ\n",
    "ind = -1\n",
    "while(True):\n",
    "    ind += 1\n",
    "    \n",
    "    post_date = cs.get_post_date(driver, ind) # 投稿日取得\n",
    "    post_time = cs.get_post_time(driver, 1)   # 投稿時間取得\n",
    "    \n",
    "    is_feed      = cs.is_feed(driver, ind)              # ストーリー投稿かどうかの判別\n",
    "    within_range = cs.within_range(post_date, DAYS_AGO) # 投稿日が取得範囲内か判別\n",
    "    \n",
    "    # 取得範囲外の投稿だった場合、ループ終了\n",
    "    if not(within_range):\n",
    "        print('ループ終了')\n",
    "        break\n",
    "        \n",
    "    # ストーリー投稿だった場合、次のループへ\n",
    "    elif not(is_feed):\n",
    "        cs.scroll_content(driver) # 一つ分スクロール\n",
    "        print(\"ストーリーです\")\n",
    "        continue\n",
    "        \n",
    "    # 取得条件を満たした投稿だった場合、インサイトを取得する\n",
    "    elif(is_feed and within_range):\n",
    "        insight = cs.get_insight(driver, ind)\n",
    "        insight[\"date\"] = post_date\n",
    "        insight[\"time\"] = post_time\n",
    "    \n",
    "    # 一つ分スクロール\n",
    "    cs.scroll_content(driver)\n",
    "    print(insight)\n",
    "    es.wait(1)"
   ]
  },
  {
   "cell_type": "code",
   "execution_count": null,
   "metadata": {},
   "outputs": [],
   "source": []
  },
  {
   "cell_type": "code",
   "execution_count": null,
   "metadata": {},
   "outputs": [],
   "source": [
    "import importlib\n",
    "importlib.reload(es)\n",
    "importlib.reload(cs)"
   ]
  },
  {
   "cell_type": "code",
   "execution_count": null,
   "metadata": {},
   "outputs": [],
   "source": []
  }
 ],
 "metadata": {
  "kernelspec": {
   "display_name": "Python 3",
   "language": "python",
   "name": "python3"
  },
  "language_info": {
   "codemirror_mode": {
    "name": "ipython",
    "version": 3
   },
   "file_extension": ".py",
   "mimetype": "text/x-python",
   "name": "python",
   "nbconvert_exporter": "python",
   "pygments_lexer": "ipython3",
   "version": "3.8.5"
  }
 },
 "nbformat": 4,
 "nbformat_minor": 4
}
