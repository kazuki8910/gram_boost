{
 "cells": [
  {
   "cell_type": "code",
   "execution_count": null,
   "metadata": {},
   "outputs": [],
   "source": [
    "####################\n",
    "#\n",
    "# 投稿のインサイト取得\n",
    "#\n",
    "####################"
   ]
  },
  {
   "cell_type": "code",
   "execution_count": null,
   "metadata": {},
   "outputs": [],
   "source": [
    "####################\n",
    "#\n",
    "# モジュール\n",
    "#\n",
    "####################\n",
    "\n",
    "# 標準\n",
    "import sys\n",
    "\n",
    "# 自作\n",
    "sys.path.append('module')\n",
    "import EasyScraping as es\n",
    "import CreatorStudio as cs"
   ]
  },
  {
   "cell_type": "code",
   "execution_count": null,
   "metadata": {},
   "outputs": [],
   "source": [
    "####################\n",
    "#\n",
    "# 変数\n",
    "#\n",
    "####################\n",
    "\n",
    "# インサイトを取得するアカウントID\n",
    "account_id = 'camp__film'\n",
    "account_info = es.get_account_info(account_id)\n",
    "\n",
    "# 何日前までのインサイトを取得するか？\n",
    "DAYS_AGO = 3"
   ]
  },
  {
   "cell_type": "code",
   "execution_count": null,
   "metadata": {},
   "outputs": [],
   "source": [
    "####################\n",
    "#\n",
    "# インサイト取得\n",
    "#\n",
    "####################\n",
    "\n",
    "# GoogleChrome起動\n",
    "driver = es.start_chrome()"
   ]
  },
  {
   "cell_type": "code",
   "execution_count": null,
   "metadata": {},
   "outputs": [],
   "source": [
    "# クリエイタースタジオを起動\n",
    "cs.start_up_cs(driver)"
   ]
  },
  {
   "cell_type": "code",
   "execution_count": null,
   "metadata": {},
   "outputs": [],
   "source": [
    "# アカウントを選択\n",
    "cs.choice_account(driver, account_id)"
   ]
  },
  {
   "cell_type": "code",
   "execution_count": 310,
   "metadata": {},
   "outputs": [
    {
     "name": "stdout",
     "output_type": "stream",
     "text": [
      "{'url': 'https://www.instagram.com/p/CMvbNnLBEk9/', 'imp': '175', 'reach': '171', 'unfollow_reach': '6%', 'profile': '3', 'follow': '--', 'favo': '60', 'comment': '0', 'save': '0', 'date': datetime.datetime(2021, 3, 23, 12, 23, 15, 371298), 'time': '19:01'}\n",
      "{'url': 'https://www.instagram.com/p/CMt4dNhhwpy/', 'imp': '1,069', 'reach': '950', 'unfollow_reach': '3%', 'profile': '2', 'follow': '--', 'favo': '379', 'comment': '0', 'save': '0', 'date': datetime.datetime(2021, 3, 22, 12, 23, 28, 613627), 'time': '19:01'}\n",
      "{'url': 'https://www.instagram.com/p/CMsxGnYBmIm/', 'imp': '2,183', 'reach': '2,124', 'unfollow_reach': '36%', 'profile': '22', 'follow': '2', 'favo': '610', 'comment': '1', 'save': '2', 'date': datetime.datetime(2021, 3, 22, 12, 23, 42, 73093), 'time': '8:37'}\n",
      "ストーリーです\n",
      "{'url': 'https://www.instagram.com/p/CMrTnYmBjkl/', 'imp': '1,667', 'reach': '1,599', 'unfollow_reach': '35%', 'profile': '28', 'follow': '--', 'favo': '435', 'comment': '0', 'save': '2', 'date': datetime.datetime(2021, 3, 21, 0, 0), 'time': '19:00'}\n",
      "{'url': 'https://www.instagram.com/p/CMq4x1JhRWg/', 'imp': '1,725', 'reach': '1,661', 'unfollow_reach': '21%', 'profile': '7', 'follow': '--', 'favo': '470', 'comment': '0', 'save': '2', 'date': datetime.datetime(2021, 3, 21, 0, 0), 'time': '15:06'}\n",
      "{'url': 'https://www.instagram.com/p/CMq3e3Whqn8/', 'imp': '1,648', 'reach': '1,575', 'unfollow_reach': '30%', 'profile': '16', 'follow': '--', 'favo': '421', 'comment': '1', 'save': '1', 'date': datetime.datetime(2021, 3, 21, 0, 0), 'time': '14:55'}\n",
      "{'url': 'https://www.instagram.com/p/CMqUexShzL8/', 'imp': '2,014', 'reach': '1,910', 'unfollow_reach': '31%', 'profile': '21', 'follow': '1', 'favo': '552', 'comment': '0', 'save': '0', 'date': datetime.datetime(2021, 3, 21, 0, 0), 'time': '9:49'}\n",
      "{'url': 'https://www.instagram.com/p/CMqOP6OB8SW/', 'imp': '1,775', 'reach': '1,698', 'unfollow_reach': '27%', 'profile': '24', 'follow': '--', 'favo': '292', 'comment': '0', 'save': '2', 'date': datetime.datetime(2021, 3, 21, 0, 0), 'time': '8:55'}\n",
      "ループ終了\n"
     ]
    }
   ],
   "source": [
    "# インサイト取得のループ\n",
    "ind = -1\n",
    "while(True):\n",
    "    ind += 1\n",
    "    \n",
    "    post_date = cs.get_post_date(driver, ind) # 投稿日取得\n",
    "    post_time = cs.get_post_time(driver, 1)   # 投稿時間取得\n",
    "    \n",
    "    is_feed      = cs.is_feed(driver, ind)              # ストーリー投稿かどうかの判別\n",
    "    within_range = cs.within_range(post_date, DAYS_AGO) # 投稿日が取得範囲内か判別\n",
    "    \n",
    "    # 取得範囲外の投稿だった場合、ループ終了\n",
    "    if not(within_range):\n",
    "        print('ループ終了')\n",
    "        break\n",
    "        \n",
    "    # ストーリー投稿だった場合、次のループへ\n",
    "    elif not(is_feed):\n",
    "        cs.scroll_content(driver) # 一つ分スクロール\n",
    "        print(\"ストーリーです\")\n",
    "        continue\n",
    "        \n",
    "    # 取得条件を満たした投稿だった場合、インサイトを取得する\n",
    "    elif(is_feed and within_range):\n",
    "        insight = cs.get_insight(driver, ind)\n",
    "        insight[\"date\"] = post_date\n",
    "        insight[\"time\"] = post_time\n",
    "    \n",
    "    # 一つ分スクロール\n",
    "    cs.scroll_content(driver)\n",
    "    print(insight)\n",
    "    es.wait(1)"
   ]
  },
  {
   "cell_type": "code",
   "execution_count": null,
   "metadata": {},
   "outputs": [],
   "source": []
  },
  {
   "cell_type": "code",
   "execution_count": null,
   "metadata": {},
   "outputs": [],
   "source": [
    "import importlib\n",
    "importlib.reload(es)\n",
    "importlib.reload(cs)"
   ]
  },
  {
   "cell_type": "code",
   "execution_count": null,
   "metadata": {},
   "outputs": [],
   "source": []
  }
 ],
 "metadata": {
  "kernelspec": {
   "display_name": "Python 3",
   "language": "python",
   "name": "python3"
  },
  "language_info": {
   "codemirror_mode": {
    "name": "ipython",
    "version": 3
   },
   "file_extension": ".py",
   "mimetype": "text/x-python",
   "name": "python",
   "nbconvert_exporter": "python",
   "pygments_lexer": "ipython3",
   "version": "3.8.5"
  }
 },
 "nbformat": 4,
 "nbformat_minor": 4
}
