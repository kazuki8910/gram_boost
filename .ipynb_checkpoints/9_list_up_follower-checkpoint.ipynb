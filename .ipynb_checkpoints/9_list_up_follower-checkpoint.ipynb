{
 "cells": [
  {
   "cell_type": "code",
   "execution_count": null,
   "metadata": {},
   "outputs": [],
   "source": [
    "# Marblesのフォロワーリストアップ"
   ]
  },
  {
   "cell_type": "code",
   "execution_count": null,
   "metadata": {},
   "outputs": [],
   "source": [
    "# モジュール\n",
    "import sys\n",
    "import time\n",
    "\n",
    "from selenium import webdriver\n",
    "from selenium.webdriver.chrome.options import Options\n",
    "\n",
    "sys.path.append(\"module\")\n",
    "import EasyScraping as es\n",
    "import Instagram as ig"
   ]
  },
  {
   "cell_type": "code",
   "execution_count": null,
   "metadata": {},
   "outputs": [],
   "source": [
    "# クローラーアカウント\n",
    "account_id = \"auto_bot_k1\"\n",
    "account = es.get_account_info(account_id)"
   ]
  },
  {
   "cell_type": "code",
   "execution_count": null,
   "metadata": {},
   "outputs": [],
   "source": [
    "# Driver起動\n",
    "driver = es.start_chrome(headless=False, session=False, secret=False)"
   ]
  },
  {
   "cell_type": "code",
   "execution_count": null,
   "metadata": {},
   "outputs": [],
   "source": [
    "# インスタにログイン\n",
    "ig.login(driver, account_id, account[\"pass\"])"
   ]
  },
  {
   "cell_type": "code",
   "execution_count": null,
   "metadata": {},
   "outputs": [],
   "source": [
    "# Marblesのプロフィールに遷移（手動）\n",
    "# フォロワー一覧を表示（手動）"
   ]
  },
  {
   "cell_type": "code",
   "execution_count": null,
   "metadata": {},
   "outputs": [],
   "source": [
    "# フォロワー取得のループ\n",
    "for i in range(13000):\n",
    "    \n",
    "    # 1人分スクロール\n",
    "    follower_height = 46\n",
    "    selector = \"body > div.RnEpo.Yx5HN > div > div > div.isgrP\"\n",
    "    es.scroll(driver, selector, follower_height)\n",
    "    \n",
    "    time.sleep(0.05)"
   ]
  },
  {
   "cell_type": "code",
   "execution_count": null,
   "metadata": {},
   "outputs": [],
   "source": [
    "follower_xpath = f'/html/body/div[5]/div/div/div[2]/ul/div/li'\n",
    "follower_elm = driver.find_elements_by_xpath(follower_xpath)"
   ]
  },
  {
   "cell_type": "code",
   "execution_count": null,
   "metadata": {},
   "outputs": [],
   "source": [
    "# url格納用\n",
    "follower_list = []"
   ]
  },
  {
   "cell_type": "code",
   "execution_count": null,
   "metadata": {},
   "outputs": [],
   "source": [
    "# url一括取得\n",
    "for val in follower_elm:\n",
    "    try:\n",
    "        follower_a_tag = val.find_element_by_tag_name('a')\n",
    "        user_url = follower_a_tag.get_attribute('href')\n",
    "\n",
    "        follower_list.append([user_url])\n",
    "    except:\n",
    "        print(val)"
   ]
  },
  {
   "cell_type": "code",
   "execution_count": 101,
   "metadata": {},
   "outputs": [],
   "source": [
    "for val in follower_list:\n",
    "    print(val)"
   ]
  },
  {
   "cell_type": "code",
   "execution_count": null,
   "metadata": {},
   "outputs": [],
   "source": []
  },
  {
   "cell_type": "code",
   "execution_count": null,
   "metadata": {},
   "outputs": [],
   "source": [
    "# 開発中"
   ]
  },
  {
   "cell_type": "code",
   "execution_count": null,
   "metadata": {},
   "outputs": [],
   "source": [
    "url = follower_list[0][0]"
   ]
  },
  {
   "cell_type": "code",
   "execution_count": null,
   "metadata": {},
   "outputs": [],
   "source": [
    "driver.get(url)"
   ]
  },
  {
   "cell_type": "code",
   "execution_count": null,
   "metadata": {},
   "outputs": [],
   "source": [
    "# 投稿数を取得\n",
    "post_num = ig.get_post_num(driver)"
   ]
  },
  {
   "cell_type": "code",
   "execution_count": null,
   "metadata": {},
   "outputs": [],
   "source": []
  },
  {
   "cell_type": "code",
   "execution_count": null,
   "metadata": {},
   "outputs": [],
   "source": []
  },
  {
   "cell_type": "code",
   "execution_count": null,
   "metadata": {},
   "outputs": [],
   "source": [
    "# 格納用\n",
    "# follower_list = []\n",
    "#     # フォロワーのURL取得\n",
    "#     follower_xpath = f'/html/body/div[5]/div/div/div[2]/ul/div/li[{i+1}]'\n",
    "#     follower_elm = driver.find_element_by_xpath(follower_xpath)\n",
    "#     follower_a_tag = follower_elm.find_element_by_tag_name(\"a\")\n",
    "#     follower_url = follower_a_tag.get_attribute(\"href\")\n",
    "    \n",
    "#     # リストに格納\n",
    "#     follower_list.append([follower_url])"
   ]
  },
  {
   "cell_type": "code",
   "execution_count": null,
   "metadata": {},
   "outputs": [],
   "source": [
    "len(follower_elm)"
   ]
  },
  {
   "cell_type": "code",
   "execution_count": null,
   "metadata": {},
   "outputs": [],
   "source": [
    "follower_xpath = f'/html/body/div[5]/div/div/div[2]/ul/div/li'\n",
    "follower_elm = driver.find_elements_by_xpath(follower_xpath)\n",
    "len(follower_elm)"
   ]
  },
  {
   "cell_type": "code",
   "execution_count": null,
   "metadata": {},
   "outputs": [],
   "source": []
  },
  {
   "cell_type": "code",
   "execution_count": null,
   "metadata": {},
   "outputs": [],
   "source": []
  },
  {
   "cell_type": "code",
   "execution_count": null,
   "metadata": {},
   "outputs": [],
   "source": []
  },
  {
   "cell_type": "code",
   "execution_count": null,
   "metadata": {},
   "outputs": [],
   "source": [
    "# 格納用\n",
    "user_urls = set([])\n",
    "\n",
    "# 取得するループ\n",
    "# while(True):\n",
    "for i in range(5):\n",
    "    # ユーザーのURLを取得\n",
    "    xpath = '/html/body/div[6]/div/div/div[2]/div/div/div[1]'\n",
    "    elm = es.get_elm_by_xpath(driver, xpath)\n",
    "    url_elm = elm.find_element_by_tag_name('a')\n",
    "    user_url = url_elm.get_attribute('href')\n",
    "    user_urls.add(user_url)\n",
    "\n",
    "    # リーチ数分取得したらループから抜ける\n",
    "    if(len(user_urls) >= set_reach):\n",
    "        break\n",
    "\n",
    "    # 1つ分スクロール\n",
    "    elm_height = elm.size[\"height\"]\n",
    "    selector = 'body > div.RnEpo.Yx5HN > div > div > div.isgrP'\n",
    "    es.scroll(driver, selector, elm_height)\n",
    "    es.wait(0.1, 0.1)"
   ]
  },
  {
   "cell_type": "code",
   "execution_count": null,
   "metadata": {},
   "outputs": [],
   "source": []
  },
  {
   "cell_type": "code",
   "execution_count": null,
   "metadata": {},
   "outputs": [],
   "source": []
  }
 ],
 "metadata": {
  "kernelspec": {
   "display_name": "Python 3",
   "language": "python",
   "name": "python3"
  },
  "language_info": {
   "codemirror_mode": {
    "name": "ipython",
    "version": 3
   },
   "file_extension": ".py",
   "mimetype": "text/x-python",
   "name": "python",
   "nbconvert_exporter": "python",
   "pygments_lexer": "ipython3",
   "version": "3.8.5"
  }
 },
 "nbformat": 4,
 "nbformat_minor": 4
}
