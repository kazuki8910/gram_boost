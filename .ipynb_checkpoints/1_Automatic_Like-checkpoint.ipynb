{
 "cells": [
  {
   "cell_type": "code",
   "execution_count": 1,
   "metadata": {},
   "outputs": [],
   "source": [
    "# 自動いいねツール"
   ]
  },
  {
   "cell_type": "code",
   "execution_count": 1,
   "metadata": {},
   "outputs": [],
   "source": [
    "# モジュール\n",
    "import sys\n",
    "import json\n",
    "from selenium import webdriver\n",
    "from selenium.webdriver.chrome.options import Options\n",
    "\n",
    "sys.path.append(\"module\")\n",
    "import EasyScraping as es\n",
    "import Instagram as ig"
   ]
  },
  {
   "cell_type": "code",
   "execution_count": 2,
   "metadata": {},
   "outputs": [],
   "source": [
    "# 対象アカウント\n",
    "accounts = [\n",
    "    \"auto_bot_k1\",# テストアカウント\n",
    "    \"camp__film\", # キャンプフィルム\n",
    "    \"bijo_film\",  # 美女フィルム\n",
    "    \"ayano_bbj\",  # コスメ（あやの）\n",
    "]"
   ]
  },
  {
   "cell_type": "code",
   "execution_count": 3,
   "metadata": {},
   "outputs": [],
   "source": [
    "####################\n",
    "# \n",
    "# テストコード（後で消す）\n",
    "# \n",
    "####################\n",
    "\n",
    "account = accounts[0]"
   ]
  },
  {
   "cell_type": "code",
   "execution_count": 4,
   "metadata": {},
   "outputs": [],
   "source": [
    "####################\n",
    "# \n",
    "# 設定値取得\n",
    "# \n",
    "####################\n",
    "\n",
    "account_info = es.get_account_info(account) # アカウント情報\n",
    "\n",
    "account_pass = account_info[\"pass\"] # パスワード\n",
    "\n",
    "profile_url  = ig.url_ig + '/' + account # プロフィールURL\n",
    "\n",
    "al_info = account_info[\"automatic_like\"]   # 自動いいねに関する情報\n",
    "release_min    = al_info[\"release_min\"]    # これ以上のフォローでフォロー解除する\n",
    "release_follow = al_info[\"release_follow\"] # 一回に解除するフォロー数"
   ]
  },
  {
   "cell_type": "code",
   "execution_count": 6,
   "metadata": {},
   "outputs": [],
   "source": [
    "####################\n",
    "# \n",
    "# インスタグラムにログイン\n",
    "# \n",
    "####################\n",
    "\n",
    "# ヘッドレス化\n",
    "# options = Options()\n",
    "# options.add_argument('--headless');\n",
    "\n",
    "# クローム起動\n",
    "driver = webdriver.Chrome(es.driver_path, options=options)\n",
    "\n",
    "# インスタグラムにログイン\n",
    "ig.login(driver, account, account_pass)"
   ]
  },
  {
   "cell_type": "code",
   "execution_count": 19,
   "metadata": {},
   "outputs": [],
   "source": [
    "####################\n",
    "# \n",
    "# フォロー解除\n",
    "# \n",
    "####################\n",
    "ig.al_release_follow(driver, profile_url, release_min, release_follow)"
   ]
  },
  {
   "cell_type": "code",
   "execution_count": 11,
   "metadata": {},
   "outputs": [
    {
     "data": {
      "text/plain": [
       "<module 'Instagram' from 'module\\\\Instagram.py'>"
      ]
     },
     "execution_count": 11,
     "metadata": {},
     "output_type": "execute_result"
    }
   ],
   "source": [
    "import importlib\n",
    "importlib.reload(es)\n",
    "importlib.reload(ig)"
   ]
  },
  {
   "cell_type": "code",
   "execution_count": null,
   "metadata": {},
   "outputs": [],
   "source": []
  }
 ],
 "metadata": {
  "kernelspec": {
   "display_name": "Python 3",
   "language": "python",
   "name": "python3"
  },
  "language_info": {
   "codemirror_mode": {
    "name": "ipython",
    "version": 3
   },
   "file_extension": ".py",
   "mimetype": "text/x-python",
   "name": "python",
   "nbconvert_exporter": "python",
   "pygments_lexer": "ipython3",
   "version": "3.8.5"
  }
 },
 "nbformat": 4,
 "nbformat_minor": 4
}
