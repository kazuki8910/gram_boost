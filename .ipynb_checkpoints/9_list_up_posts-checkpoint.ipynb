{
 "cells": [
  {
   "cell_type": "code",
   "execution_count": null,
   "metadata": {},
   "outputs": [],
   "source": [
    "# 投稿のリストアップ"
   ]
  },
  {
   "cell_type": "code",
   "execution_count": null,
   "metadata": {},
   "outputs": [],
   "source": [
    "####################\n",
    "# \n",
    "# モジュール\n",
    "# \n",
    "####################\n",
    "\n",
    "# 標準\n",
    "import sys\n",
    "import random\n",
    "\n",
    "# 自作\n",
    "sys.path.append('module')\n",
    "import EasyScraping as es\n",
    "import CreatorStudio as cs\n",
    "import Instagram as ig"
   ]
  },
  {
   "cell_type": "code",
   "execution_count": null,
   "metadata": {},
   "outputs": [],
   "source": [
    "####################\n",
    "# \n",
    "# シートから情報を取得\n",
    "# \n",
    "####################\n",
    "\n",
    "print(\"シートの情報を取得中\")\n",
    "\n",
    "# シートの認証\n",
    "gc = es.sheet_auth()\n",
    "\n",
    "# シートの設定値\n",
    "sheet_key = \"1kk42fCyWIAf7taxEp0zwI-P_5DruB0MYJYELx9kB3TE\" # シートキー\n",
    "sheet_name_list = \"post_list\" # post_listシート名\n",
    "sheet_name_conf = \"config\" # configシート名\n",
    "sheet_name_rival = \"rivals\" # rivalsシート名\n",
    "sheets = gc.open_by_key(sheet_key)"
   ]
  },
  {
   "cell_type": "code",
   "execution_count": null,
   "metadata": {},
   "outputs": [],
   "source": [
    "# 競合のアカウントリストからランダムに3つ抽出\n",
    "rival_sheet = sheets.worksheet(sheet_name_rival)\n",
    "sheet_rival = rival_sheet.get_all_values() # シートの値\n",
    "rivals = sheet_rival[1:]\n",
    "rivals = random.sample(rivals,3)"
   ]
  },
  {
   "cell_type": "code",
   "execution_count": null,
   "metadata": {},
   "outputs": [],
   "source": [
    "# configシートの情報を取得\n",
    "conf_sheet = sheets.worksheet(sheet_name_conf)\n",
    "sheet_conf = conf_sheet.get_all_values() # シートの値\n",
    "conf_val = {}\n",
    "for conf in sheet_conf:\n",
    "    conf_val[conf[0]] = conf[1] "
   ]
  },
  {
   "cell_type": "code",
   "execution_count": null,
   "metadata": {},
   "outputs": [],
   "source": [
    "# post_listシートの情報を取得\n",
    "list_sheet = sheets.worksheet(sheet_name_list)\n",
    "sheet_list = list_sheet.get_all_values() # シートの値"
   ]
  },
  {
   "cell_type": "code",
   "execution_count": null,
   "metadata": {},
   "outputs": [],
   "source": [
    "# Chrome起動\n",
    "driver = es.start_chrome(session=False, secret=True)"
   ]
  },
  {
   "cell_type": "code",
   "execution_count": null,
   "metadata": {},
   "outputs": [],
   "source": [
    "# インスタにログイン\n",
    "bot_account = es.get_account_info(\"auto_bot_k1\")\n",
    "ig.login(driver, bot_account[\"name\"], bot_account[\"pass\"])"
   ]
  },
  {
   "cell_type": "code",
   "execution_count": null,
   "metadata": {},
   "outputs": [],
   "source": [
    "# ループ\n",
    "for rival in rivals:\n",
    "\n",
    "    # アカウントのプロフィール画面に遷移\n",
    "    driver.get(rival[0])\n",
    "    es.wait()\n",
    "\n",
    "    # 下のログインを促すバナーを削除\n",
    "    ig.delete_login_banner(driver)\n",
    "    \n",
    "    # 投稿一覧の要素\n",
    "    xpath = \"/html/body/div[1]/section/main/div/div/article/div[1]/div/div/div\"\n",
    "    posts = es.get_elms_by_xpath(driver, xpath)\n",
    "\n",
    "    # 投稿のインデックス番号といいね数を取得\n",
    "    post_info = ig.get_favo_from_posts(driver, posts)\n",
    "    post_info = sorted(post_info, reverse=True, key=lambda x: x[1])  #[1]に注目してソート\n",
    "    post_info = post_info[0:5] # エンゲージメントの高い5つに絞る\n",
    "\n",
    "    # 投稿のURLを格納\n",
    "    for val in post_info:\n",
    "        # インデックスから投稿の要素を取得\n",
    "        ind = val[0]\n",
    "        post = posts[ind]\n",
    "\n",
    "        # 投稿のURLを取得\n",
    "        url = ig.get_post_url_from_post_list(post)\n",
    "        val.append(url)\n",
    "        \n",
    "        \n",
    "    # スプレッドシートに出力\n",
    "    # post_listシートの情報を取得\n",
    "    sheets = gc.open_by_key(sheet_key)\n",
    "    list_sheet = sheets.worksheet(sheet_name_list)\n",
    "    sheet_list = list_sheet.get_all_values() # シートの値\n",
    "\n",
    "    len_list = len(sheet_list)\n",
    "    len_col  = len(sheet_list[0])\n",
    "    for ind,val in enumerate(post_info):\n",
    "        # 書き換える行を選択\n",
    "        row = list_sheet.range(len_list+ind+1, 1, len_list+ind+1, 3)\n",
    "\n",
    "        # セル書き換え\n",
    "        row[0].value = val[2]\n",
    "        row[1].value = conf_val[\"post_text\"]\n",
    "        row[2].value = conf_val[\"post_tag\"]\n",
    "        list_sheet.update_cells(row) "
   ]
  },
  {
   "cell_type": "code",
   "execution_count": null,
   "metadata": {},
   "outputs": [],
   "source": [
    "driver.quit()"
   ]
  },
  {
   "cell_type": "code",
   "execution_count": null,
   "metadata": {},
   "outputs": [],
   "source": []
  },
  {
   "cell_type": "code",
   "execution_count": null,
   "metadata": {},
   "outputs": [],
   "source": []
  },
  {
   "cell_type": "code",
   "execution_count": null,
   "metadata": {},
   "outputs": [],
   "source": []
  }
 ],
 "metadata": {
  "kernelspec": {
   "display_name": "Python 3",
   "language": "python",
   "name": "python3"
  },
  "language_info": {
   "codemirror_mode": {
    "name": "ipython",
    "version": 3
   },
   "file_extension": ".py",
   "mimetype": "text/x-python",
   "name": "python",
   "nbconvert_exporter": "python",
   "pygments_lexer": "ipython3",
   "version": "3.8.5"
  }
 },
 "nbformat": 4,
 "nbformat_minor": 4
}
